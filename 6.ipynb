{
 "cells": [
  {
   "cell_type": "code",
   "execution_count": 1,
   "id": "23fa26e5-fa84-40e7-8241-a620259b81b2",
   "metadata": {},
   "outputs": [],
   "source": [
    "import numpy as np\n",
    "import matplotlib.pyplot as plt\n",
    "import matplotlib.patches as mpatches\n",
    "from ipywidgets import interact\n",
    "from ipywidgets import widgets"
   ]
  },
  {
   "cell_type": "markdown",
   "id": "fdae9780-86ce-4e92-b5a5-f02d92761757",
   "metadata": {},
   "source": [
    "# Задание №1"
   ]
  },
  {
   "cell_type": "code",
   "execution_count": 2,
   "id": "38baf3ea-53b7-4c5f-98a7-eeaf563edebc",
   "metadata": {},
   "outputs": [],
   "source": [
    "def oblique_projections(a=0, b=0,r=0):\n",
    "    a_rad = np.radians(a)\n",
    "    b_rad = np.radians(b)\n",
    "    r_rad = np.radians(r)\n",
    "    f = 1/np.tan(b_rad)\n",
    "    oblique_matrix = np.array([\n",
    "        [1,0,-f*np.cos(a_rad),0],\n",
    "        [0,1,-f*np.sin(b_rad),0],\n",
    "        [0,0,0,0],\n",
    "        [1,0,0,1]\n",
    "    ])\n",
    "\n",
    "    rotation_matrix = np.array([\n",
    "        [np.cos(r_rad),0,np.sin(r_rad),0],\n",
    "        [0,1,0,0],\n",
    "        [-np.sin(r_rad),0,np.cos(r_rad),0],\n",
    "        [0,0,0,1]\n",
    "    ])\n",
    "    \n",
    "    original_vertices = np.array([\n",
    "    [2, 0, 2, 1],  # 0\n",
    "    [0, 0, 2, 1],  # 1\n",
    "    [0, 0, 0, 1],  # 2\n",
    "    [2, 0, 0, 1],  # 3\n",
    "    [1, 2, 1, 1]  #4\n",
    "    ])\n",
    "\n",
    "    vertices = []\n",
    "    for vert in original_vertices:\n",
    "        vertices.append(((oblique_matrix @ ((rotation_matrix @ (vert.T-(np.array([1,0,1,0])).T))+np.array([1,0,1,0]).T))[:2]).T)\n",
    "    base = np.array([\n",
    "        [1,0,0,1],\n",
    "        [0,1,0,1],\n",
    "        [0,0,1,1],\n",
    "    ])\n",
    "    base_vertices = ((oblique_matrix @ base.T)[:2]).T \n",
    "    \n",
    "    faces = [\n",
    "    [vertices[0], vertices[1], vertices[2], vertices[3]],  # Основание\n",
    "    [vertices[0], vertices[4], vertices[1]],  # Передняя грань\n",
    "    [vertices[2], vertices[1], vertices[4]],  # Левая грань\n",
    "    [vertices[3], vertices[2], vertices[4]],  # Задняя грань\n",
    "    [vertices[0], vertices[3], vertices[4]]  # Правая грань\n",
    "    ]\n",
    "\n",
    "    fig = plt.figure(num=1, figsize=(3, 3), dpi=200)\n",
    "    ax = fig.add_subplot(1, 1, 1)\n",
    "    ax.set(\n",
    "    xlim=(-3, 3),\n",
    "    ylim=(-2, 4)\n",
    "    )\n",
    "    ax.axline((0,0),(base_vertices[0]), color = 'red', linewidth = 0.5)  # X\n",
    "    ax.axline((0,0),(base_vertices[1]), color = 'green', linewidth = 0.5)# Y\n",
    "    ax.axline((0,0),(base_vertices[2]), color = 'blue', linewidth = 0.5) # Z\n",
    "    ax.set_aspect('equal')\n",
    "    for face in faces:\n",
    "        face = np.array(face)\n",
    "        matrix = np.vstack((face[:3].T,np.ones((1,3))))               \n",
    "        if np.linalg.det(matrix)>=0:\n",
    "            polygon = mpatches.Polygon(face, closed=True, edgecolor='black', zorder=11, fill = None)\n",
    "        else:\n",
    "            polygon = mpatches.Polygon(face, closed=True, edgecolor='grey', zorder=10, fill = None)\n",
    "        ax.add_patch(polygon)\n",
    "    \n",
    "\n"
   ]
  },
  {
   "cell_type": "markdown",
   "id": "a63c27ea-9a39-45be-a392-1c6fe04c948b",
   "metadata": {},
   "source": [
    "## Кавалье"
   ]
  },
  {
   "cell_type": "code",
   "execution_count": 3,
   "id": "6d2769bf-2160-4e7b-8b97-bcd63b4c1c09",
   "metadata": {},
   "outputs": [
    {
     "data": {
      "application/vnd.jupyter.widget-view+json": {
       "model_id": "56f788d9283547afb7745952e6ca2bd8",
       "version_major": 2,
       "version_minor": 0
      },
      "text/plain": [
       "interactive(children=(IntSlider(value=0, description='a', max=180), IntSlider(value=45, description='b', max=1…"
      ]
     },
     "metadata": {},
     "output_type": "display_data"
    },
    {
     "data": {
      "text/plain": [
       "<function __main__.oblique_projections(a=0, b=0, r=0)>"
      ]
     },
     "execution_count": 3,
     "metadata": {},
     "output_type": "execute_result"
    }
   ],
   "source": [
    "interact(oblique_projections, a=(0, 180, 1),b=45,r=(-180,180,1))"
   ]
  },
  {
   "cell_type": "markdown",
   "id": "6c5e75c5-62e8-4d8e-9c85-1d10e9c1a17b",
   "metadata": {},
   "source": [
    "## Кабине\n",
    "\n"
   ]
  },
  {
   "cell_type": "code",
   "execution_count": 5,
   "id": "e5e7a449-a678-4ddf-b43f-19b7efe52258",
   "metadata": {},
   "outputs": [
    {
     "data": {
      "application/vnd.jupyter.widget-view+json": {
       "model_id": "36551e33b8eb43cebcde73d9600efd5d",
       "version_major": 2,
       "version_minor": 0
      },
      "text/plain": [
       "interactive(children=(IntSlider(value=0, description='a', max=180), FloatSlider(value=-125.19356223272753, des…"
      ]
     },
     "metadata": {},
     "output_type": "display_data"
    },
    {
     "data": {
      "text/plain": [
       "<function __main__.oblique_projections(a=0, b=0, r=0)>"
      ]
     },
     "execution_count": 5,
     "metadata": {},
     "output_type": "execute_result"
    }
   ],
   "source": [
    "interact(oblique_projections, a=(0, 180, 1),b=np.rad2deg(np.tan(2)),r=(-180,180,1))"
   ]
  },
  {
   "cell_type": "code",
   "execution_count": 6,
   "id": "2b116b03-cfd2-4cf1-9a0a-c0cc0f1252af",
   "metadata": {},
   "outputs": [
    {
     "data": {
      "application/vnd.jupyter.widget-view+json": {
       "model_id": "a67668062afa4cb48e52918ab5b72251",
       "version_major": 2,
       "version_minor": 0
      },
      "text/plain": [
       "interactive(children=(IntSlider(value=5, description='x', max=10), IntSlider(value=5, description='z', max=10)…"
      ]
     },
     "metadata": {},
     "output_type": "display_data"
    },
    {
     "data": {
      "text/plain": [
       "<function __main__.zadanie_2(x, z, a, b)>"
      ]
     },
     "execution_count": 6,
     "metadata": {},
     "output_type": "execute_result"
    }
   ],
   "source": [
    "def zadanie_2(x,z,a,b):\n",
    "    a_rad = np.radians(a)\n",
    "    b_rad = np.radians(b)\n",
    "    f = 1/np.tan(b_rad)\n",
    "    oblique_matrix = np.array([\n",
    "        [1,0,-f*np.cos(a_rad),0],\n",
    "        [0,1,-f*np.sin(b_rad),0],\n",
    "        [0,0,0,0],\n",
    "        [1,0,0,1]\n",
    "    ])\n",
    "    \n",
    "    original_vertices = np.array([\n",
    "    [2+x, 0, 2+z, 1],  # 0\n",
    "    [0+x, 0, 2+z, 1],  # 1\n",
    "    [0+x, 0, 0+z, 1],  # 2\n",
    "    [2+x, 0, 0+z, 1],  # 3\n",
    "    [1+x, 2, 1+z, 1]  #4\n",
    "    ])\n",
    "\n",
    "    vertices = ((oblique_matrix @ original_vertices.T)[:2]).T\n",
    "    base = np.array([\n",
    "        [1,0,0,1],\n",
    "        [0,1,0,1],\n",
    "        [0,0,1,1],\n",
    "    ])\n",
    "    base_vertices = ((oblique_matrix @ base.T)[:2]).T \n",
    "    \n",
    "    faces = [\n",
    "    [vertices[0], vertices[1], vertices[2], vertices[3]],  # Основание\n",
    "    [vertices[0], vertices[4], vertices[1]],  # Передняя грань\n",
    "    [vertices[2], vertices[1], vertices[4]],  # Левая грань\n",
    "    [vertices[3], vertices[2], vertices[4]],  # Задняя грань\n",
    "    [vertices[0], vertices[3], vertices[4]]  # Правая грань\n",
    "    ]\n",
    "\n",
    "    fig = plt.figure(num=1, figsize=(3, 3), dpi=200)\n",
    "    ax = fig.add_subplot(1, 1, 1)\n",
    "    ax.set(\n",
    "    xlim=(-10, 10),\n",
    "    ylim=(-10, 10)\n",
    "    )\n",
    "    ax.axline((0,0),(base_vertices[0]), color = 'red', linewidth = 0.5)  # X\n",
    "    ax.axline((0,0),(base_vertices[1]), color = 'green', linewidth = 0.5)# Y\n",
    "    ax.axline((0,0),(base_vertices[2]), color = 'blue', linewidth = 0.5) # Z\n",
    "    ax.set_aspect('equal')\n",
    "    \n",
    "    for i in range(12):\n",
    "        for j in range(12):\n",
    "            original_square_vertices = np.array([\n",
    "                [0+i,0,0+j,1],\n",
    "                [0+i,0,1+j,1],\n",
    "                [1+i,0,1+j,1],\n",
    "                [1+i,0,0+j,1]\n",
    "            ])\n",
    "            square_vertices = ((oblique_matrix @ original_square_vertices.T)[:2]).T\n",
    "            if (i+j)%2==0:\n",
    "                square = mpatches.Polygon(square_vertices, closed=True, edgecolor='white', facecolor='red',zorder=10, fill = 1)\n",
    "            else:\n",
    "                square = mpatches.Polygon(square_vertices, closed=True, edgecolor='white', facecolor='blue',zorder=10, fill = 1)\n",
    "            ax.add_patch(square)\n",
    "\n",
    "    for face in faces:\n",
    "        face = np.array(face)\n",
    "        matrix = np.vstack((face[:3].T,np.ones((1,3))))               \n",
    "        if np.linalg.det(matrix)>=0:\n",
    "            polygon = mpatches.Polygon(face, closed=True, edgecolor='black', facecolor='grey', zorder=11, fill = 1)\n",
    "            ax.add_patch(polygon)\n",
    "\n",
    "interact(zadanie_2, x=(0,10,1),z=(0,10,1),a=(0,90,1),b=(0,90,1))"
   ]
  },
  {
   "cell_type": "code",
   "execution_count": null,
   "id": "8d1afcee-2e0a-49fb-bb57-a47dd794a191",
   "metadata": {},
   "outputs": [],
   "source": []
  },
  {
   "cell_type": "code",
   "execution_count": null,
   "id": "d319d51a-c6c2-4aa0-a2a2-01a82d24fc11",
   "metadata": {},
   "outputs": [],
   "source": []
  }
 ],
 "metadata": {
  "kernelspec": {
   "display_name": "Python 3 (ipykernel)",
   "language": "python",
   "name": "python3"
  },
  "language_info": {
   "codemirror_mode": {
    "name": "ipython",
    "version": 3
   },
   "file_extension": ".py",
   "mimetype": "text/x-python",
   "name": "python",
   "nbconvert_exporter": "python",
   "pygments_lexer": "ipython3",
   "version": "3.12.6"
  }
 },
 "nbformat": 4,
 "nbformat_minor": 5
}
