{
 "cells": [
  {
   "cell_type": "code",
   "execution_count": 127,
   "id": "c33ec056-b9af-43da-94ca-a28d30866f9f",
   "metadata": {},
   "outputs": [],
   "source": [
    "import numpy as np\n",
    "import matplotlib.pyplot as plt\n",
    "from ipywidgets import interact\n",
    "import matplotlib.patches as patches"
   ]
  },
  {
   "cell_type": "markdown",
   "id": "85cde54c-4ff1-4d0b-9375-e93269c95ce7",
   "metadata": {},
   "source": [
    "4.2. Задание 1\n",
    "1. Изучить по презентации теорию, касающуюся плоской кинематической пары. Уметь\n",
    "объяснить своими словами что эта за конструкция, что означает слово кинематическая\n",
    "в названии, какой геометрический смысл имеют величины 𝜃1, 𝜃2, 𝑎1 и 𝑎2. \n",
    "Какие из\n",
    "этих величин задаются, а какие вычисляются? Упрощенной моделью каких реальных\n",
    "устройств и объектов может служить кинематическая пара?\n",
    "2. Создать функцию, которая вычисляет точки кинематической пары, основание которой\n",
    "находится в начале координат. В качестве аргументов функция должна принимать\n",
    "величины 𝜃1, 𝜃2, 𝑎1 и 𝑎2\n",
    "3. Визуализировать кинематическую пару. Создать два ползунка, которые меняют значение параметров 𝜃1, 𝜃2и приводят за счет этого кинематическую пару в движение.\n"
   ]
  },
  {
   "cell_type": "code",
   "execution_count": 129,
   "id": "03f0bdd7-5739-43fd-890a-887b2606348f",
   "metadata": {},
   "outputs": [
    {
     "data": {
      "application/vnd.jupyter.widget-view+json": {
       "model_id": "0dae0ba195eb448c97b81eeba8fe138e",
       "version_major": 2,
       "version_minor": 0
      },
      "text/plain": [
       "interactive(children=(IntSlider(value=0, description='theta1', max=360, step=10), IntSlider(value=0, descripti…"
      ]
     },
     "metadata": {},
     "output_type": "display_data"
    },
    {
     "data": {
      "text/plain": [
       "<function __main__.Graf(theta1=0, theta2=0, a1=1, a2=1)>"
      ]
     },
     "execution_count": 129,
     "metadata": {},
     "output_type": "execute_result"
    }
   ],
   "source": [
    "def kinematic_couple(theta1, theta2, a1, a2):\n",
    "    a = np.radians(theta1)\n",
    "    b = np.radians(theta2)\n",
    "    P1=np.array([a1,0])\n",
    "    P2=np.array([a2+a1,0])\n",
    "    rotate_matrix = np.array([[np.cos(a), -np.sin(a)],\n",
    "                              [np.sin(a), np.cos(a)]])\n",
    "    rotate_matrix_2 = np.array([[np.cos(b), -np.sin(b)],\n",
    "                              [np.sin(b), np.cos(b)]]) \n",
    "\n",
    "    P11=np.array(rotate_matrix @ P1.T )\n",
    "    P12=np.array(rotate_matrix @ P2.T)\n",
    "    \n",
    "    P22=np.array(rotate_matrix_2 @ (P12-P11)+P11).T.tolist()\n",
    "    \n",
    "   \n",
    "\n",
    "    return    P11, P22\n",
    "\n",
    "def Graf(theta1=0, theta2=0, a1=1, a2=1):\n",
    "\n",
    "    x0=0\n",
    "    y0=0\n",
    "\n",
    "    P11,P22 = kinematic_couple(theta1, theta2, a1, a2)\n",
    "\n",
    "    fig=plt.figure(figsize=(10,10))\n",
    "    ax = fig.add_subplot(1, 1, 1)\n",
    "    ax.plot([x0, P11[0]], [y0, P11[1]], 'b-', linewidth=3, label='Звено 1')\n",
    "    # ax.plot([x1, x2], [y1, y2], 'r-', linewidth=3, label='Звено 2')\n",
    "    ax.plot([P11[0], P22[0]], [P11[1], P22[1]], 'r-', linewidth=3, label='Звено 2')\n",
    "    ax.plot(P22[0], P22[1], 'ko', markersize=5)\n",
    "    ax.plot(P11[0], P11[1], 'ko', markersize=5)\n",
    "    ax.plot(x0, y0, 'ko', markersize=5)\n",
    "    ax.set_xlim(-10,10)\n",
    "    ax.set_ylim(-10,10)\n",
    "    ax.set_xlabel('x')\n",
    "    ax.set_ylabel('y')\n",
    "    ax.set_title(\"Двухзвенная кинематическая цепь\")\n",
    "    ax.legend()\n",
    "    ax.grid(True)\n",
    "  \n",
    "   \n",
    "\n",
    "  \n",
    "\n",
    "interact(Graf, theta1=(0,360,10),theta2=(0,360,10), a1=(0,10,0.1), a2=(0,10,0.1))"
   ]
  },
  {
   "cell_type": "code",
   "execution_count": 123,
   "id": "27c7c51a-418a-45ca-94f9-18532a6e9376",
   "metadata": {},
   "outputs": [
    {
     "name": "stdout",
     "output_type": "stream",
     "text": [
      "[7. 0.] [11.992485749319318, 0.27401832574394763]\n"
     ]
    }
   ],
   "source": [
    "def epitrahoid(R,r,t,d):\n",
    "    P11,P22=kinematic_couple(t,R/r*t+np.pi,R+r,d)\n",
    "    return P11,P22\n",
    "\n",
    "P11,P22= epitrahoid(4,3,0,5)\n",
    "print(P11,P22)"
   ]
  },
  {
   "cell_type": "code",
   "execution_count": 125,
   "id": "67584d87-fd2e-4f6b-ac3e-0f8fded4dc0b",
   "metadata": {},
   "outputs": [
    {
     "name": "stdout",
     "output_type": "stream",
     "text": [
      "[1. 0.] [11.992485749319318, 0.27401832574394763]\n"
     ]
    }
   ],
   "source": [
    "def hypotrochoid(R,r,t,d):\n",
    "    P11, P22 = kinematic_couple(t, -(R/r)*t, R-r , d)\n",
    "    return P11, P22\n",
    "P11 , p22 = hypotrochoid(4,3,0,5)\n",
    "print(P11,P22)"
   ]
  },
  {
   "cell_type": "code",
   "execution_count": null,
   "id": "58466f60-c343-439e-8e03-db2e2db087e4",
   "metadata": {},
   "outputs": [],
   "source": []
  },
  {
   "cell_type": "code",
   "execution_count": 122,
   "id": "18408299-95d7-4a73-b601-d960f6ad653c",
   "metadata": {},
   "outputs": [
    {
     "ename": "SyntaxError",
     "evalue": "invalid syntax (2322649702.py, line 14)",
     "output_type": "error",
     "traceback": [
      "\u001b[1;36m  Cell \u001b[1;32mIn[122], line 14\u001b[1;36m\u001b[0m\n\u001b[1;33m    n=\u001b[0m\n\u001b[1;37m         ^\u001b[0m\n\u001b[1;31mSyntaxError\u001b[0m\u001b[1;31m:\u001b[0m invalid syntax\n"
     ]
    }
   ],
   "source": [
    "def lcm(x,y):\n",
    "    if x > y:\n",
    "        greater = x \n",
    "    else:\n",
    "        greater = y \n",
    "    while(True):\n",
    "        if((greater % x == 0) and(greater % y == 0)):\n",
    "            lcm = greater\n",
    "            break\n",
    "        greater += 1 \n",
    "    return lcm\n",
    "\n",
    "def kinematic_couple(theta1, theta2, R,r,d,k,n):\n",
    "    n=lcm(R,r)/R\n",
    "    t=theta1\n",
    "    k=R/r\n",
    "    theta2=k*t+np.pi\n",
    "    a=np.radians(t)\n",
    "    b = np.radians(theta2)\n",
    "    P1=np.array([R+r,0])\n",
    "    P2=np.array([d,0])\n",
    "    rotate_matrix = np.array([[np.cos(a), -np.sin(a)],\n",
    "                              [np.sin(a), np.cos(a)]])\n",
    "    rotate_matrix_2 = np.array([[np.cos(b), -np.sin(b)],\n",
    "                              [np.sin(b), np.cos(b)]]) \n",
    "\n",
    "    P11=np.array(rotate_matrix @ P1.T )\n",
    "    P12=np.array(rotate_matrix @ P2.T)\n",
    "    \n",
    "    P22=np.array(rotate_matrix_2 @ (P12-P11)+P11).T.tolist()\n",
    "    \n",
    "   \n",
    "\n",
    "    return    P11, P22\n",
    "\n",
    "def Graf(theta1=0, theta2=0, R=0,r=0.1,d=0,k=0):\n",
    "\n",
    "    x0=0\n",
    "    y0=0\n",
    "\n",
    "    P11,P22 = kinematic_couple(theta1, theta2, R,r,d,k)\n",
    "\n",
    "    fig=plt.figure(figsize=(10,10))\n",
    "    ax = fig.add_subplot(1, 1, 1)\n",
    "    ax.plot([x0, P11[0]], [y0, P11[1]], 'b-', linewidth=3, label='Звено 1')\n",
    "    # ax.plot([x1, x2], [y1, y2], 'r-', linewidth=3, label='Звено 2')\n",
    "    ax.plot([P11[0], P22[0]], [P11[1], P22[1]], 'r-', linewidth=3, label='Звено 2')\n",
    "    ax.plot(P22[0], P22[1], 'ko', markersize=5)\n",
    "    ax.plot(P11[0], P11[1], 'ko', markersize=5)\n",
    "    ax.plot(x0, y0, 'ko', markersize=5)\n",
    "    ax.set_xlim(-10,10)\n",
    "    ax.set_ylim(-10,10)\n",
    "    ax.set_xlabel('x')\n",
    "    ax.set_ylabel('y')\n",
    "    ax.set_title(\"Двухзвенная кинематическая цепь\")\n",
    "    ax.legend()\n",
    "    ax.grid(True)\n",
    "  \n",
    "   \n",
    "\n",
    "  \n",
    "\n",
    "widgets(Graf, theta1=(0,360,10),theta2=(0,360,10), R=(0,10,0.1), r=(0.1,10,0.1), d=(0,10,0.1),k=(0,10,0.1))"
   ]
  },
  {
   "cell_type": "code",
   "execution_count": null,
   "id": "6eaf0bcf-81a8-4a46-bb1a-0a025492b012",
   "metadata": {},
   "outputs": [],
   "source": []
  }
 ],
 "metadata": {
  "kernelspec": {
   "display_name": "Python 3 (ipykernel)",
   "language": "python",
   "name": "python3"
  },
  "language_info": {
   "codemirror_mode": {
    "name": "ipython",
    "version": 3
   },
   "file_extension": ".py",
   "mimetype": "text/x-python",
   "name": "python",
   "nbconvert_exporter": "python",
   "pygments_lexer": "ipython3",
   "version": "3.12.6"
  }
 },
 "nbformat": 4,
 "nbformat_minor": 5
}
