{
 "cells": [
  {
   "cell_type": "code",
   "execution_count": 1,
   "id": "be1a7e28-e060-4461-9ec7-699248a5b63b",
   "metadata": {},
   "outputs": [],
   "source": [
    "import numpy as np\n",
    "import matplotlib.pyplot as plt\n",
    "import matplotlib.patches as mpatches\n",
    "from ipywidgets import interact\n",
    "from ipywidgets import widgets"
   ]
  },
  {
   "cell_type": "markdown",
   "id": "af9893cd-09bf-4983-abc5-f89e55c8890d",
   "metadata": {},
   "source": [
    "# Задание №1\n"
   ]
  },
  {
   "cell_type": "code",
   "execution_count": 2,
   "id": "2d5da251-fb51-4145-bd10-51271c416b81",
   "metadata": {},
   "outputs": [
    {
     "data": {
      "application/vnd.jupyter.widget-view+json": {
       "model_id": "091c94b482de458981b82bce46f813a8",
       "version_major": 2,
       "version_minor": 0
      },
      "text/plain": [
       "interactive(children=(FloatSlider(value=0.0, description='p', max=2.0, min=-1.0), FloatSlider(value=0.0, descr…"
      ]
     },
     "metadata": {},
     "output_type": "display_data"
    },
    {
     "data": {
      "text/plain": [
       "<function __main__.perspective(p=0, q=0, r=-0.4, a_x=0, a_y=-2, a_z=0, theta=60)>"
      ]
     },
     "execution_count": 2,
     "metadata": {},
     "output_type": "execute_result"
    }
   ],
   "source": [
    "def Rodrig(vertices,theta):\n",
    "    b=np.radians(-theta)\n",
    "    a =  vertices[1]\n",
    "    length = np.linalg.norm(a)\n",
    "    a = a / length\n",
    "    A=np.array([[0,a[2],-a[1],0], [-a[2],0,a[0],0], [a[1],-a[0],0,0], [0, 0, 0, 0]])\n",
    "    R=np.eye(4)+(np.sin(b)*A)+(1-np.cos(b))*(A@A)\n",
    "    new_points=vertices@R.T                           \n",
    "    return new_points\n",
    "\n",
    "\n",
    "def perspective (p=0,q=0,r=-0.4,a_x=0, a_y=-2, a_z=0, theta=60):\n",
    "    \n",
    "   \n",
    "    translation = np.array([\n",
    "            [1, 0, 0, a_x],\n",
    "            [0, 1, 0, a_y],\n",
    "            [0, 0, 1, a_z],\n",
    "            [0, 0, 0, 1]])\n",
    "    \n",
    "    akson_matrix = np.array([\n",
    "        [1,0,0,0],\n",
    "        [0,1,0,0],\n",
    "        [0,0,1,0],\n",
    "        [p,q,r,1]\n",
    "    ])\n",
    "   \n",
    "    original_vertices = np.array([\n",
    "    [0, 0, 0, 1], \n",
    "    [0, 1, 0, 1],  \n",
    "    [1, 1, 0, 1],  \n",
    "    [1, 0, 0, 1],  \n",
    "    [0, 0, 1, 1],\n",
    "    [0, 1, 1, 1],\n",
    "    [1, 1, 1, 1],\n",
    "    [1, 0, 1, 1]    \n",
    "    ])\n",
    "\n",
    "\n",
    "    \n",
    " \n",
    "    rot_vertices=Rodrig(original_vertices, theta)\n",
    "\n",
    "    trans_vertices=translation @ rot_vertices.T\n",
    "\n",
    "    vertices=akson_matrix @ trans_vertices\n",
    "    \n",
    "    w = vertices[3, :]\n",
    "    vertices = ((vertices[:3, :] / w)[:2]).T\n",
    "    \n",
    "\n",
    " \n",
    "    \n",
    "    faces = [\n",
    "    [vertices[0], vertices[3], vertices[7], vertices[4]],  \n",
    "    [vertices[1], vertices[5], vertices[6], vertices[2]],  \n",
    "    [vertices[2], vertices[6], vertices[7], vertices[3]],  \n",
    "    [vertices[5], vertices[4], vertices[7], vertices[6]],  \n",
    "    [vertices[1], vertices[0], vertices[4], vertices[5]],\n",
    "    [vertices[1], vertices[2], vertices[3], vertices[0]],    \n",
    "    ]\n",
    "\n",
    "\n",
    "\n",
    "\n",
    "    \n",
    "\n",
    "    \n",
    "    \n",
    "\n",
    "    fig = plt.figure(num=1, figsize=(3, 3), dpi=200)\n",
    "    ax = fig.add_subplot(1, 1, 1)\n",
    "    x= vertices[:,0]\n",
    "    y= vertices[:,1]\n",
    "    \n",
    "    for i in range(len(faces)):\n",
    "        if (faces[i][0] != faces[i][1]).any():\n",
    "            ax.axline(faces[i][0],faces[i][1], color = 'grey', linewidth = 0.2, linestyle = '--')\n",
    "        if (faces[i][1] != faces[i][2]).any():\n",
    "            ax.axline(faces[i][1],faces[i][2], color = 'grey', linewidth = 0.2, linestyle = '--')\n",
    "        if (faces[i][2] != faces[i][3]).any():\n",
    "            ax.axline(faces[i][2],faces[i][3], color = 'grey', linewidth = 0.2, linestyle = '--')\n",
    "        if (faces[i][3] != faces[i][0]).any():\n",
    "            ax.axline(faces[i][3],faces[i][0], color = 'grey', linewidth = 0.2, linestyle = '--')\n",
    "\n",
    "    \n",
    "    for i in range(len(x) ):\n",
    "      ax.text(x[i] + 0.15, y[i] + 0.1, str(i), fontsize=4)\n",
    "    ax.set(\n",
    "    xlim=(-4, 4),\n",
    "    ylim=(-4, 4)\n",
    "    )\n",
    "   \n",
    "    ax.axline((0,0),((akson_matrix[:2].T)[0]), color = 'red', linewidth = 0.5)  # X\n",
    "    ax.axline((0,0),((akson_matrix[:2].T)[1]), color = 'green', linewidth = 0.5)# Y\n",
    "    \n",
    "    ax.set_aspect('equal')\n",
    "    \n",
    "\n",
    "   \n",
    "    for face in faces:\n",
    "        face = np.array(face)\n",
    "        matrix = np.vstack((face[:3].T,np.ones((1,3))))               \n",
    "        if np.linalg.det(matrix)>=0:\n",
    "            polygon = mpatches.Polygon(face, closed=True, edgecolor='black',zorder=20, fill = None)\n",
    "        else:\n",
    "            polygon = mpatches.Polygon(face, closed=True, edgecolor='grey',zorder=20, fill = None, alpha=0.5)\n",
    "        ax.add_patch(polygon)\n",
    "    \n",
    "interact(perspective, p=(-1, 2, 0.1), q = (-1, 2, 0.1), r = (-1, 2, 0.01),a_x = (-2, 2, 0.1), a_y = (-2, 2, 0.1), a_z = (-2, 2, 0.1), theta = (0, 360, 1))\n",
    "\n",
    "\n",
    "\n"
   ]
  },
  {
   "cell_type": "markdown",
   "id": "5ce9d6df-3f8d-48e5-a6dd-6132a1a403c4",
   "metadata": {},
   "source": [
    "# Задание 2"
   ]
  },
  {
   "cell_type": "code",
   "execution_count": 10,
   "id": "28812a05-ca89-4410-a209-083874161606",
   "metadata": {},
   "outputs": [
    {
     "data": {
      "application/vnd.jupyter.widget-view+json": {
       "model_id": "d1404afe52254e959c7f3c9ca8b94db1",
       "version_major": 2,
       "version_minor": 0
      },
      "text/plain": [
       "interactive(children=(FloatSlider(value=0.0, description='p', max=1.0, min=-1.0, step=0.01), FloatSlider(value…"
      ]
     },
     "metadata": {},
     "output_type": "display_data"
    },
    {
     "data": {
      "text/plain": [
       "<function __main__.zadanie_2(p=0, q=0.04, r=0.0, size=25)>"
      ]
     },
     "execution_count": 10,
     "metadata": {},
     "output_type": "execute_result"
    }
   ],
   "source": [
    "def zadanie_2(p=0,q=0.04,r=0.,size=25):\n",
    "    \n",
    "    \n",
    "    akson_matrix = np.array([\n",
    "        [1,0,0,0],\n",
    "        [0,1,0,0],\n",
    "        [0,0,1,0],\n",
    "        [p,q,r,1]\n",
    "    ])\n",
    "\n",
    "    akson1_matrix = np.array([\n",
    "        [1,0,0,0],\n",
    "        [0,1,0,0],\n",
    "        [0,0,1,0],\n",
    "        [0,0.04,0.5,1]\n",
    "    ])\n",
    "    \n",
    "\n",
    "    fig = plt.figure(num=1, figsize=(6, 6), dpi=150)\n",
    "    ax = fig.add_subplot(1, 1, 1)\n",
    "    ax.set(\n",
    "    xlim=(-8, 8),\n",
    "    ylim=(-2, 12)\n",
    "    )\n",
    "    ax.set_aspect('equal') \n",
    "    for i in range(-8,8):\n",
    "        for j in range(size):\n",
    "            original_square_vertices = np.array([\n",
    "                [0+i,0+j,0,1],\n",
    "                [0+i,1+j,0,1],\n",
    "                [1+i,1+j,0,1],\n",
    "                [1+i,0+j,0,1]\n",
    "            ])\n",
    "\n",
    "            square_vertices=akson_matrix @ original_square_vertices.T\n",
    "            w = square_vertices[3, :]\n",
    "            square_vertices = ((square_vertices[:2, :] / w)[:2]).T\n",
    "\n",
    "            \n",
    "            if j%2==0:\n",
    "                square = mpatches.Polygon(square_vertices, closed=True, edgecolor='black', facecolor='red',  fill = 1)\n",
    "            else:\n",
    "                square = mpatches.Polygon(square_vertices, closed=True, edgecolor='black', facecolor='blue', fill = 1)\n",
    "            ax.add_patch(square)\n",
    "\n",
    "    x = np.linspace(-4, 4, 500)\n",
    "    y = x ** 2\n",
    "    z = np.zeros_like(x)  # парабола лежит на плоскости z=0\n",
    "\n",
    "    # Формируем однородные координаты\n",
    "    parabola_vertices = np.vstack([x, y, z, np.ones_like(x)])  \n",
    "\n",
    "    # Применяем перспективное преобразование\n",
    "    parabola = akson_matrix @ parabola_vertices  \n",
    "\n",
    "    \n",
    "    w = parabola[3, :]\n",
    "    parabola = parabola[:2, :] / w\n",
    "\n",
    "    \n",
    "    ax.plot(parabola[0, :], parabola[1, :], color='yellow', linewidth=2, )\n",
    "\n",
    "\n",
    "interact(zadanie_2,p=(-1, 1, 0.01), q = (-2, 2, 0.01), r = (-1, 2, 0.01),size=(1,100,1))"
   ]
  },
  {
   "cell_type": "code",
   "execution_count": null,
   "id": "bf87f4ce-de36-4ddc-8eb8-8c28c43b94c4",
   "metadata": {},
   "outputs": [],
   "source": []
  },
  {
   "cell_type": "code",
   "execution_count": null,
   "id": "c2d448a5-06d4-47ab-9c11-ffc5d440688f",
   "metadata": {},
   "outputs": [],
   "source": []
  }
 ],
 "metadata": {
  "kernelspec": {
   "display_name": "Python 3 (ipykernel)",
   "language": "python",
   "name": "python3"
  },
  "language_info": {
   "codemirror_mode": {
    "name": "ipython",
    "version": 3
   },
   "file_extension": ".py",
   "mimetype": "text/x-python",
   "name": "python",
   "nbconvert_exporter": "python",
   "pygments_lexer": "ipython3",
   "version": "3.12.6"
  }
 },
 "nbformat": 4,
 "nbformat_minor": 5
}
