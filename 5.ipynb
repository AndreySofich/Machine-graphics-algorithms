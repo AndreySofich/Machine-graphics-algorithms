{
 "cells": [
  {
   "cell_type": "code",
   "execution_count": 1,
   "id": "be1a7e28-e060-4461-9ec7-699248a5b63b",
   "metadata": {},
   "outputs": [],
   "source": [
    "import numpy as np\n",
    "import matplotlib.pyplot as plt\n",
    "import matplotlib.patches as mpatches\n",
    "from ipywidgets import interact\n",
    "from ipywidgets import widgets"
   ]
  },
  {
   "cell_type": "markdown",
   "id": "af9893cd-09bf-4983-abc5-f89e55c8890d",
   "metadata": {},
   "source": [
    "# Задание №1\n"
   ]
  },
  {
   "cell_type": "code",
   "execution_count": 2,
   "id": "2d5da251-fb51-4145-bd10-51271c416b81",
   "metadata": {},
   "outputs": [
    {
     "data": {
      "application/vnd.jupyter.widget-view+json": {
       "model_id": "7b5f00df85864f178237f7ec92e4f607",
       "version_major": 2,
       "version_minor": 0
      },
      "text/plain": [
       "interactive(children=(IntSlider(value=1, description='a', max=360, min=1), IntSlider(value=1, description='b',…"
      ]
     },
     "metadata": {},
     "output_type": "display_data"
    },
    {
     "data": {
      "text/plain": [
       "<function __main__.trimetric_projection(a=1, b=1)>"
      ]
     },
     "execution_count": 2,
     "metadata": {},
     "output_type": "execute_result"
    }
   ],
   "source": [
    "def trimetric_projection(a=1, b=1):\n",
    "    a_rad = np.radians(a)\n",
    "    b_rad = np.radians(b)\n",
    "    akson_matrix = np.array([\n",
    "        [np.cos(a_rad),0,np.sin(a_rad),0],\n",
    "        [np.sin(a_rad)*np.sin(b_rad),np.cos(b_rad),-np.sin(b_rad)*np.cos(a_rad),0],\n",
    "        [0,0,0,0],\n",
    "        [0,0,0,1]\n",
    "    ])\n",
    "    \n",
    "    original_vertices = np.array([\n",
    "    [1, 0, 1, 1],  # 0\n",
    "    [-1, 0, 1, 1],  # 1\n",
    "    [-1, 0, -1, 1],  # 2\n",
    "    [1, 0, -1, 1],  # 3\n",
    "    [0, 2, 0, 1]  #4\n",
    "    ])\n",
    "\n",
    "    vertices = ((akson_matrix @ original_vertices.T)[:2]).T\n",
    "    \n",
    "    faces = [\n",
    "    [vertices[0], vertices[1], vertices[2], vertices[3]],  # Основание\n",
    "    [vertices[0], vertices[4], vertices[1]],  # Передняя грань\n",
    "    [vertices[2], vertices[1], vertices[4]],  # Левая грань\n",
    "    [vertices[3], vertices[2], vertices[4]],  # Задняя грань\n",
    "    [vertices[0], vertices[3], vertices[4]]  # Правая грань\n",
    "    ]\n",
    "\n",
    "    fig = plt.figure(num=1, figsize=(3, 3), dpi=200)\n",
    "    ax = fig.add_subplot(1, 1, 1)\n",
    "    ax.set(\n",
    "    xlim=(-3, 3),\n",
    "    ylim=(-2, 4)\n",
    "    )\n",
    "    ax.axline((0,0),((akson_matrix[:2].T)[0]), color = 'red', linewidth = 0.5)  # X\n",
    "    ax.axline((0,0),((akson_matrix[:2].T)[1]), color = 'green', linewidth = 0.5)# Y\n",
    "    ax.axline((0,0),((akson_matrix[:2].T)[2]), color = 'blue', linewidth = 0.5) # Z\n",
    "    ax.set_aspect('equal')\n",
    "    for face in faces:\n",
    "        face = np.array(face)\n",
    "        matrix = np.vstack((face[:3].T,np.ones((1,3))))               \n",
    "        if np.linalg.det(matrix)>=0:\n",
    "            polygon = mpatches.Polygon(face, closed=True, edgecolor='black', fill = None)\n",
    "        if np.linalg.det(matrix)<0:\n",
    "            polygon = mpatches.Polygon(face, closed=True, edgecolor='grey', fill = None, alpha=0.5)\n",
    "        ax.add_patch(polygon)\n",
    "    \n",
    "\n",
    "interact(trimetric_projection, a=(1, 360, 1),b=(-180, 360, 1))"
   ]
  },
  {
   "cell_type": "code",
   "execution_count": 3,
   "id": "1288c7e2-52f1-44bd-a330-c919814871b9",
   "metadata": {},
   "outputs": [
    {
     "data": {
      "application/vnd.jupyter.widget-view+json": {
       "model_id": "efc3b033437246a9bacfeeb1803e95d4",
       "version_major": 2,
       "version_minor": 0
      },
      "text/plain": [
       "interactive(children=(FloatSlider(value=0.5, description='f_z', max=1.0, min=0.01, step=0.01), Output()), _dom…"
      ]
     },
     "metadata": {},
     "output_type": "display_data"
    },
    {
     "data": {
      "text/plain": [
       "<function __main__.dimetric_projection(f_z)>"
      ]
     },
     "execution_count": 3,
     "metadata": {},
     "output_type": "execute_result"
    }
   ],
   "source": [
    "def dimetric_projection(f_z):\n",
    "    b = np.rad2deg(np.arcsin(f_z/np.sqrt(2)))\n",
    "    a = np.rad2deg(np.arcsin(f_z/np.sqrt(2 - (f_z**2))))\n",
    "    trimetric_projection(a=a, b=b)\n",
    "interact(dimetric_projection, f_z=(0.01, 1, 0.01))"
   ]
  },
  {
   "cell_type": "code",
   "execution_count": 4,
   "id": "0b2e62b2-690a-4317-917b-20ddcfa7ffba",
   "metadata": {},
   "outputs": [
    {
     "data": {
      "application/vnd.jupyter.widget-view+json": {
       "model_id": "60c7473a4fd54e4c86f2003aad00e284",
       "version_major": 2,
       "version_minor": 0
      },
      "text/plain": [
       "interactive(children=(Select(description='a', options=(45.0, -45.0), value=45.0), Select(description='b', opti…"
      ]
     },
     "metadata": {},
     "output_type": "display_data"
    },
    {
     "data": {
      "text/plain": [
       "<function __main__.trimetric_projection(a=1, b=1)>"
      ]
     },
     "execution_count": 4,
     "metadata": {},
     "output_type": "execute_result"
    }
   ],
   "source": [
    "interact(trimetric_projection,\n",
    "    a=widgets.Select(\n",
    "    options=[np.rad2deg(np.pi/4), np.rad2deg(-np.pi/4)],\n",
    "    value=np.rad2deg(np.pi/4),\n",
    "    description='a',\n",
    "    disabled=False\n",
    "    ),\n",
    "    b=widgets.Select(\n",
    "    options=[np.rad2deg(np.arcsin(1/np.sqrt(3))), np.rad2deg(-np.arcsin(1/np.sqrt(3)))],\n",
    "    value=np.rad2deg(np.arcsin(1/np.sqrt(3))),\n",
    "    description='b',\n",
    "    disabled=False\n",
    "    )   \n",
    ")"
   ]
  },
  {
   "cell_type": "markdown",
   "id": "5ce9d6df-3f8d-48e5-a6dd-6132a1a403c4",
   "metadata": {},
   "source": [
    "# Задание 2"
   ]
  },
  {
   "cell_type": "code",
   "execution_count": 5,
   "id": "28812a05-ca89-4410-a209-083874161606",
   "metadata": {},
   "outputs": [
    {
     "data": {
      "application/vnd.jupyter.widget-view+json": {
       "model_id": "2f742faacc47417599adfd0e2f9f01ba",
       "version_major": 2,
       "version_minor": 0
      },
      "text/plain": [
       "interactive(children=(IntSlider(value=5, description='x', max=10), IntSlider(value=5, description='z', max=10)…"
      ]
     },
     "metadata": {},
     "output_type": "display_data"
    },
    {
     "data": {
      "text/plain": [
       "<function __main__.zadanie_2(x, z)>"
      ]
     },
     "execution_count": 5,
     "metadata": {},
     "output_type": "execute_result"
    }
   ],
   "source": [
    "def zadanie_2(x,z):\n",
    "    akson_matrix = np.array([\n",
    "        [np.cos(np.pi/4),0,np.sin(np.pi/4),0],\n",
    "        [np.sin(np.pi/4)/np.sqrt(3),1/np.sqrt(3),-1/np.sqrt(3)*np.cos(np.pi/4),0],\n",
    "        [0,0,0,0],\n",
    "        [0,0,0,1]\n",
    "    ])\n",
    "    \n",
    "    original_vertices = np.array([\n",
    "    [2+x, 0, 2+z, 1],  # 0\n",
    "    [0+x, 0, 2+z, 1],  # 1\n",
    "    [0+x, 0, 0+z, 1],  # 2\n",
    "    [2+x, 0, 0+z, 1],  # 3\n",
    "    [1+x, 2, 1+z, 1]  #4\n",
    "    ])\n",
    "\n",
    "    vertices = ((akson_matrix @ original_vertices.T)[:2]).T\n",
    "    \n",
    "    faces = [\n",
    "    [vertices[0], vertices[1], vertices[2], vertices[3]],  # Основание\n",
    "    [vertices[0], vertices[4], vertices[1]],  # Передняя грань\n",
    "    [vertices[2], vertices[1], vertices[4]],  # Левая грань\n",
    "    [vertices[3], vertices[2], vertices[4]],  # Задняя грань\n",
    "    [vertices[0], vertices[3], vertices[4]]  # Правая грань\n",
    "    ]\n",
    "\n",
    "    fig = plt.figure(num=1, figsize=(3, 3), dpi=200)\n",
    "    ax = fig.add_subplot(1, 1, 1)\n",
    "    ax.set(\n",
    "    xlim=(-1, 16),\n",
    "    ylim=(-7, 7)\n",
    "    )\n",
    "    ax.axline((0,0),((akson_matrix[:2].T)[0]), color = 'red', linewidth = 0.5)  # X\n",
    "    ax.axline((0,0),((akson_matrix[:2].T)[1]), color = 'green', linewidth = 0.5)# Y\n",
    "    ax.axline((0,0),((akson_matrix[:2].T)[2]), color = 'blue', linewidth = 0.5) # Z\n",
    "    ax.set_aspect('equal')\n",
    "    \n",
    "    for i in range(12):\n",
    "        for j in range(12):\n",
    "            original_square_vertices = np.array([\n",
    "                [0+i,0,0+j,1],\n",
    "                [0+i,0,1+j,1],\n",
    "                [1+i,0,1+j,1],\n",
    "                [1+i,0,0+j,1]\n",
    "            ])\n",
    "            square_vertices = ((akson_matrix @ original_square_vertices.T)[:2]).T\n",
    "            if (i+j)%2==0:\n",
    "                square = mpatches.Polygon(square_vertices, closed=True, edgecolor='white', facecolor='red', fill = 1)\n",
    "            else:\n",
    "                square = mpatches.Polygon(square_vertices, closed=True, edgecolor='white', facecolor='blue', fill = 1)\n",
    "            ax.add_patch(square)\n",
    "\n",
    "    for face in faces:\n",
    "        face = np.array(face)\n",
    "        matrix = np.vstack((face[:3].T,np.ones((1,3))))               \n",
    "        if np.linalg.det(matrix)>=0:\n",
    "            polygon = mpatches.Polygon(face, closed=True, edgecolor='black', facecolor='grey', fill = 1)\n",
    "            ax.add_patch(polygon)\n",
    "\n",
    "interact(zadanie_2, x=(0,10,1),z=(0,10,1))"
   ]
  },
  {
   "cell_type": "markdown",
   "id": "be6bc757-7ee9-4f60-a90f-9888a18e3ffc",
   "metadata": {},
   "source": [
    "# Задание 3"
   ]
  },
  {
   "cell_type": "code",
   "execution_count": 6,
   "id": "e821ca0b-0f1d-4163-9647-b6426c4d83d6",
   "metadata": {},
   "outputs": [
    {
     "data": {
      "application/vnd.jupyter.widget-view+json": {
       "model_id": "267e10d7e0c0474d8d356a0118260c76",
       "version_major": 2,
       "version_minor": 0
      },
      "text/plain": [
       "interactive(children=(IntSlider(value=4, description='x_pyr1', max=10), IntSlider(value=1, description='z_pyr1…"
      ]
     },
     "metadata": {},
     "output_type": "display_data"
    },
    {
     "data": {
      "text/plain": [
       "<function __main__.zadanie_3(x_pyr1=4, z_pyr1=1, x_pyr2=5, z_pyr2=5, x_cub=10, z_cub=9, x_par=1, z_par=0, a=0)>"
      ]
     },
     "execution_count": 6,
     "metadata": {},
     "output_type": "execute_result"
    }
   ],
   "source": [
    "def zadanie_3(x_pyr1=4,z_pyr1=1,x_pyr2=5,z_pyr2=5,x_cub=10,z_cub=9,x_par=1,z_par=0,a=0):\n",
    "    a_rad=np.radians(a)\n",
    "    akson_matrix = np.array([\n",
    "        [np.cos(np.pi/4),0,np.sin(np.pi/4),0],\n",
    "        [np.sin(np.pi/4)/np.sqrt(3),1/np.sqrt(3),-1/np.sqrt(3)*np.cos(np.pi/4),0],\n",
    "        [0,0,0,0],\n",
    "        [0,0,0,1]\n",
    "    ])\n",
    "    rotation_matrix = np.array([\n",
    "        [np.cos(a_rad),0,np.sin(a_rad),0],\n",
    "        [0,1,0,0],\n",
    "        [-np.sin(a_rad),0,np.cos(a_rad),0],\n",
    "        [0,0,0,1]\n",
    "    ])\n",
    "    \n",
    "    original_pyramid_2_vertices = np.array([\n",
    "    [2+x_pyr2, 0, 2+z_pyr2, 1],  # 0\n",
    "    [0+x_pyr2, 0, 2+z_pyr2, 1],  # 1\n",
    "    [0+x_pyr2, 0, 0+z_pyr2, 1],  # 2\n",
    "    [2+x_pyr2, 0, 0+z_pyr2, 1],  # 3\n",
    "    [1+x_pyr2, 2, 1+z_pyr2, 1]  #4\n",
    "    ])\n",
    "    \n",
    "    original_pyramid_1_vertices = np.array([\n",
    "    [1+x_pyr1, 0, 1+z_pyr1, 1],  # 0\n",
    "    [0+x_pyr1, 0, 1+z_pyr1, 1],  # 1\n",
    "    [0+x_pyr1, 0, 0+z_pyr1, 1],  # 2\n",
    "    [1+x_pyr1, 0, 0+z_pyr1, 1],  # 3\n",
    "    [0.5+x_pyr1, 1, 0.5+z_pyr1, 1]  #4\n",
    "    ])\n",
    "\n",
    "    original_cube_vertices = np.array([\n",
    "    [0+x_cub, 0, 0+z_cub, 1],  # 0\n",
    "    [0+x_cub, 1, 0+z_cub, 1],  # 1\n",
    "    [1+x_cub, 1, 0+z_cub, 1],  # 2\n",
    "    [1+x_cub, 0, 0+z_cub, 1],  # 3\n",
    "    [0+x_cub, 0, 1+z_cub, 1],  # 4\n",
    "    [0+x_cub, 1, 1+z_cub, 1],  # 5\n",
    "    [1+x_cub, 1, 1+z_cub, 1],  # 6\n",
    "    [1+x_cub, 0, 1+z_cub, 1]  # 7\n",
    "    ])\n",
    "\n",
    "    original_parallelepiped_vertices = np.array([\n",
    "    [0+x_par, 0, 0+z_par, 1],  # 0\n",
    "    [0+x_par, 2, 0+z_par, 1],  # 1\n",
    "    [2+x_par, 2, 0+z_par, 1],  # 2\n",
    "    [2+x_par, 0, 0+z_par, 1],  # 3\n",
    "    [0+x_par, 0, 3+z_par, 1],  # 4\n",
    "    [0+x_par, 2, 3+z_par, 1],  # 5\n",
    "    [2+x_par, 2, 3+z_par, 1],  # 6\n",
    "    [2+x_par, 0, 3+z_par, 1]  # 7\n",
    "    ])\n",
    "    pyramid_2_vertices = []\n",
    "    for vert in original_pyramid_2_vertices:\n",
    "        pyramid_2_vertices.append(((akson_matrix @ ((rotation_matrix @ (vert.T-(np.array([x_pyr2+1,0,z_pyr2+1,0])).T))+np.array([x_pyr2+1,0,z_pyr2+1,0]).T))[:2]).T)\n",
    "    pyramid_1_vertices = ((akson_matrix @ original_pyramid_1_vertices.T)[:2]).T\n",
    "    cube_vertices = ((akson_matrix @ original_cube_vertices.T)[:2]).T\n",
    "    parallelepiped_vertices = ((akson_matrix @ original_parallelepiped_vertices.T)[:2]).T\n",
    "    \n",
    "    faces_pyramid_2 = [\n",
    "    [pyramid_2_vertices[0], pyramid_2_vertices[1], pyramid_2_vertices[2], pyramid_2_vertices[3]],  # Основание\n",
    "    [pyramid_2_vertices[0], pyramid_2_vertices[4], pyramid_2_vertices[1]],  # Передняя грань\n",
    "    [pyramid_2_vertices[2], pyramid_2_vertices[1], pyramid_2_vertices[4]],  # Левая грань\n",
    "    [pyramid_2_vertices[3], pyramid_2_vertices[2], pyramid_2_vertices[4]],  # Задняя грань\n",
    "    [pyramid_2_vertices[0], pyramid_2_vertices[3], pyramid_2_vertices[4]]  # Правая грань\n",
    "    ]\n",
    "    \n",
    "    faces_pyramid_1 = [\n",
    "    [pyramid_1_vertices[0], pyramid_1_vertices[1], pyramid_1_vertices[2], pyramid_1_vertices[3]],  # Основание\n",
    "    [pyramid_1_vertices[0], pyramid_1_vertices[4], pyramid_1_vertices[1]],  # Передняя грань\n",
    "    [pyramid_1_vertices[2], pyramid_1_vertices[1], pyramid_1_vertices[4]],  # Левая грань\n",
    "    [pyramid_1_vertices[3], pyramid_1_vertices[2], pyramid_1_vertices[4]],  # Задняя грань\n",
    "    [pyramid_1_vertices[0], pyramid_1_vertices[3], pyramid_1_vertices[4]]  # Правая грань\n",
    "    ]\n",
    "\n",
    "    faces_cube = [\n",
    "    [cube_vertices[0], cube_vertices[3], cube_vertices[7], cube_vertices[4]],  # Нижняя грань\n",
    "    [cube_vertices[1], cube_vertices[5], cube_vertices[6], cube_vertices[2]],  # Верхняя грань\n",
    "    [cube_vertices[5], cube_vertices[4], cube_vertices[7], cube_vertices[6]],  # Передняя грань\n",
    "    [cube_vertices[0], cube_vertices[1], cube_vertices[2], cube_vertices[3]],  # Задняя грань\n",
    "    [cube_vertices[0], cube_vertices[4], cube_vertices[5], cube_vertices[1]],  # Левая грань\n",
    "    [cube_vertices[2], cube_vertices[6], cube_vertices[7], cube_vertices[3]],  # Правая грань\n",
    "    ]\n",
    "    \n",
    "    faces_parallelepiped = [\n",
    "    [parallelepiped_vertices[0], parallelepiped_vertices[3], parallelepiped_vertices[7], parallelepiped_vertices[4]],  # Нижняя грань\n",
    "    [parallelepiped_vertices[1], parallelepiped_vertices[5], parallelepiped_vertices[6], parallelepiped_vertices[2]],  # Верхняя грань\n",
    "    [parallelepiped_vertices[5], parallelepiped_vertices[4], parallelepiped_vertices[7], parallelepiped_vertices[6]],  # Передняя грань\n",
    "    [parallelepiped_vertices[0], parallelepiped_vertices[1], parallelepiped_vertices[2], parallelepiped_vertices[3]],  # Задняя грань\n",
    "    [parallelepiped_vertices[0], parallelepiped_vertices[4], parallelepiped_vertices[5], parallelepiped_vertices[1]],  # Левая грань\n",
    "    [parallelepiped_vertices[2], parallelepiped_vertices[6], parallelepiped_vertices[7], parallelepiped_vertices[3]],  # Правая грань\n",
    "    ]\n",
    "    \n",
    "\n",
    "    fig = plt.figure(num=1, figsize=(3, 3), dpi=200)\n",
    "    ax = fig.add_subplot(1, 1, 1)\n",
    "    ax.set(\n",
    "    xlim=(-1, 16),\n",
    "    ylim=(-7, 7)\n",
    "    )\n",
    "    ax.axline((0,0),((akson_matrix[:2].T)[0]), color = 'red', linewidth = 0.5)  # X\n",
    "    ax.axline((0,0),((akson_matrix[:2].T)[1]), color = 'green', linewidth = 0.5)# Y\n",
    "    ax.axline((0,0),((akson_matrix[:2].T)[2]), color = 'blue', linewidth = 0.5) # Z\n",
    "    ax.set_aspect('equal')\n",
    "    \n",
    "    for i in range(12):\n",
    "        for j in range(12):\n",
    "            original_square_vertices = np.array([\n",
    "                [0+i,0,0+j,1],\n",
    "                [0+i,0,1+j,1],\n",
    "                [1+i,0,1+j,1],\n",
    "                [1+i,0,0+j,1]\n",
    "            ])\n",
    "            square_vertices = ((akson_matrix @ original_square_vertices.T)[:2]).T\n",
    "            if (i+j)%2==0:\n",
    "                square = mpatches.Polygon(square_vertices, closed=True, edgecolor='white', facecolor='red', fill = 1)\n",
    "            else:\n",
    "                square = mpatches.Polygon(square_vertices, closed=True, edgecolor='white', facecolor='blue', fill = 1)\n",
    "            ax.add_patch(square)\n",
    "\n",
    "    for face in faces_pyramid_2:\n",
    "        face = np.array(face)\n",
    "        matrix = np.vstack((face[:3].T,np.ones((1,3))))               \n",
    "        if np.linalg.det(matrix)>=0:\n",
    "            polygon = mpatches.Polygon(face, closed=True, edgecolor='black', facecolor='grey', fill = 1)\n",
    "            ax.add_patch(polygon)\n",
    "\n",
    "    for face in faces_pyramid_1:\n",
    "        face = np.array(face)\n",
    "        matrix = np.vstack((face[:3].T,np.ones((1,3))))               \n",
    "        if np.linalg.det(matrix)>=0:\n",
    "            polygon = mpatches.Polygon(face, closed=True, edgecolor='black', facecolor='grey', fill = 1)\n",
    "            ax.add_patch(polygon)\n",
    "            \n",
    "    for face in faces_cube:\n",
    "        face = np.array(face)\n",
    "        matrix = np.vstack((face[:3].T,np.ones((1,3))))               \n",
    "        if np.linalg.det(matrix)>=0:\n",
    "            polygon = mpatches.Polygon(face, closed=True, edgecolor='black', facecolor='grey', fill = 1)\n",
    "            ax.add_patch(polygon)\n",
    "            \n",
    "    for face in faces_parallelepiped:\n",
    "        face = np.array(face)\n",
    "        matrix = np.vstack((face[:3].T,np.ones((1,3))))               \n",
    "        if np.linalg.det(matrix)>=0:\n",
    "            polygon = mpatches.Polygon(face, closed=True, edgecolor='black', facecolor='grey', fill = 1)\n",
    "            ax.add_patch(polygon)\n",
    "\n",
    "    \n",
    "\n",
    "interact(zadanie_3, x_pyr2=(0,10,1),z_pyr2=(0,10,1), x_pyr1=(0,10,1),z_pyr1=(0,10,1), x_cub=(0,10,1),z_cub=(0,10,1), x_par=(0,10,1),z_par=(0,10,1),a=(0,360,1))"
   ]
  },
  {
   "cell_type": "code",
   "execution_count": null,
   "id": "3eca74eb-9032-41c4-b5ae-1b75331bf797",
   "metadata": {},
   "outputs": [],
   "source": []
  },
  {
   "cell_type": "code",
   "execution_count": null,
   "id": "109947a5-c279-4a60-9d58-70dc1d058b02",
   "metadata": {},
   "outputs": [],
   "source": []
  }
 ],
 "metadata": {
  "kernelspec": {
   "display_name": "Python 3 (ipykernel)",
   "language": "python",
   "name": "python3"
  },
  "language_info": {
   "codemirror_mode": {
    "name": "ipython",
    "version": 3
   },
   "file_extension": ".py",
   "mimetype": "text/x-python",
   "name": "python",
   "nbconvert_exporter": "python",
   "pygments_lexer": "ipython3",
   "version": "3.12.6"
  }
 },
 "nbformat": 4,
 "nbformat_minor": 5
}
